import spacy
from spacy import displacy

# Load spaCy Spanish model
nlp = spacy.load("es_core_news_sm")

def pos_tagging(text):
    # Process the text with spaCy
    doc = nlp(text)
    
    # Print tokens with their POS tags
    for token in doc:
        print(f'{token.text:10} {token.pos_:10} {token.dep_:10} {token.head.text}')
    
    return doc

def analyze_sentence(text):
    doc = pos_tagging(text)
    
    # Visualize the sentence structure
    displacy.render(doc, style="dep", jupyter=True)
    
    sentence_structure = {
        "Subjeto": None,
        "Predicado": None,
        "Objeto Directo": None,
        "Objeto Indirecto": None
    }
    
    for token in doc:
        if token.dep_ in ('nsubj', 'nsubjpass'):
            sentence_structure["Subjeto"] = token.text
        elif token.dep_ == 'ROOT':
            sentence_structure["Predicado"] = token.text
        elif token.dep_ in ('dobj'):
            sentence_structure["Objeto Directo"] = token.text
        elif token.dep_ in ('iobj'):
            sentence_structure["Objeto Indirecto"] = token.text
    
    print("\nSentence Structure:")
    print('')
    for part, word in sentence_structure.items():
        print(f'{part}: {word}')
    
    return sentence_structure

# Test the function
text = input('Ingrese una oración en español: ')
sentence_structure = analyze_sentence(text)
